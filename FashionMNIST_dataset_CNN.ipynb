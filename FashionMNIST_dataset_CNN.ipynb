{
  "nbformat": 4,
  "nbformat_minor": 0,
  "metadata": {
    "colab": {
      "name": "FashionMNIST_dataset_CNN.ipynb",
      "provenance": [],
      "authorship_tag": "ABX9TyP6m+eHGwb4G1zrKYT2YDHN"
    },
    "kernelspec": {
      "name": "python3",
      "display_name": "Python 3"
    },
    "language_info": {
      "name": "python"
    }
  },
  "cells": [
    {
      "cell_type": "markdown",
      "metadata": {
        "id": "VL50B_3xW5c-"
      },
      "source": [
        "Import library for our system cnn model updated using current KERAS and Tensorflow Version 2021 "
      ]
    },
    {
      "cell_type": "code",
      "metadata": {
        "id": "Leq7skoTWRuI"
      },
      "source": [
        "import numpy as np\n",
        "import pandas as pd\n",
        "%matplotlib inline\n",
        "import matplotlib as mpl\n",
        "import matplotlib.pyplot as plt\n",
        "import tensorflow as tf\n",
        "from tensorflow import keras"
      ],
      "execution_count": null,
      "outputs": []
    },
    {
      "cell_type": "markdown",
      "metadata": {
        "id": "Uga-ZgfRXA5O"
      },
      "source": [
        "Lets setup our dataset fashion mnist for input our cnn models : \n",
        "\n",
        "---\n",
        "1. Our cnn model are using training and test dataset to recognition image fashion\n"
      ]
    },
    {
      "cell_type": "markdown",
      "metadata": {
        "id": "58yaF3HiXi2m"
      },
      "source": [
        "Storage our dataset fashion mnist to variable fashion_mnist and set train and test. KERAS support our dataset you can see here for full information about these dataset https://keras.io/api/datasets/fashion_mnist/"
      ]
    },
    {
      "cell_type": "code",
      "metadata": {
        "id": "D7iginlIXBDl"
      },
      "source": [
        "fashion_mnist = keras.datasets.fashion_mnist\n",
        "(X_train_full, y_train_full), (X_test, y_test )=fashion_mnist.load_data()"
      ],
      "execution_count": null,
      "outputs": []
    },
    {
      "cell_type": "markdown",
      "metadata": {
        "id": "j1aeL8iMX9Jt"
      },
      "source": [
        "Lets setup our class dataset now we can see below code data will reshape for 3Dimension (pixel,height,weight and channel = color ===> 1 for gray 3 for RGB(full color)) fashion mnist dataset are 10 classes"
      ]
    },
    {
      "cell_type": "code",
      "metadata": {
        "id": "YgwnuB7xX8jf"
      },
      "source": [
        "\n",
        "class_name = [\"T-shirt/top\",\"Trouser\",\"Pullover\",\"Dress\",\"Coat\",\"Sandal\",\"Shirt\",\"Sneaker\",\"Bag\",\"Ankleboot\"]\n",
        "\n",
        "X_train_full = X_train_full.reshape((60000,28,28,1))\n",
        "X_test = X_test.reshape((10000,28,28,1))\n"
      ],
      "execution_count": null,
      "outputs": []
    }
  ]
}